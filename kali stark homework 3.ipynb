{
 "cells": [
  {
   "cell_type": "code",
   "execution_count": 7,
   "id": "763138d5",
   "metadata": {},
   "outputs": [
    {
     "name": "stdout",
     "output_type": "stream",
     "text": [
      "cannot find Kyle\n"
     ]
    },
    {
     "data": {
      "text/plain": [
       "88"
      ]
     },
     "execution_count": 7,
     "metadata": {},
     "output_type": "execute_result"
    }
   ],
   "source": [
    "#question 1.a\n",
    "\n",
    "marks = {'Andy':88, 'Amy':66, 'James': 90, 'Jules': 55, 'Arthur': 77}\n",
    "\n",
    "def grade(name):\n",
    "    if name in list(marks.keys()):\n",
    "        g = marks[name]\n",
    "        return g\n",
    "    if name not in list(marks.keys()):\n",
    "        print(\"cannot find\", name)\n",
    "\n",
    "grade(\"Kyle\")\n",
    "grade(\"Andy\")"
   ]
  },
  {
   "cell_type": "code",
   "execution_count": 9,
   "id": "11bafad7",
   "metadata": {},
   "outputs": [
    {
     "data": {
      "text/plain": [
       "75.2"
      ]
     },
     "execution_count": 9,
     "metadata": {},
     "output_type": "execute_result"
    }
   ],
   "source": [
    "#question 1.b\n",
    "\n",
    "import statistics as stats\n",
    "\n",
    "def avgrade(dictionary):\n",
    "    grades = list(dictionary.values())\n",
    "    av = stats.mean(grades)\n",
    "    return av\n",
    "\n",
    "avgrade(marks)"
   ]
  },
  {
   "cell_type": "code",
   "execution_count": 10,
   "id": "bd918bb4",
   "metadata": {},
   "outputs": [
    {
     "name": "stdout",
     "output_type": "stream",
     "text": [
      "1 1\n",
      "2 4\n",
      "3 9\n",
      "4 16\n",
      "5 25\n",
      "6 36\n",
      "7 49\n"
     ]
    }
   ],
   "source": [
    "#question 2\n",
    "def printsquares(n, num):\n",
    "    while n < num:\n",
    "        print(n, n**2)\n",
    "        n +=1\n",
    "\n",
    "printsquares(1, 8)"
   ]
  },
  {
   "cell_type": "code",
   "execution_count": 16,
   "id": "2921cb53",
   "metadata": {},
   "outputs": [
    {
     "data": {
      "text/plain": [
       "55"
      ]
     },
     "execution_count": 16,
     "metadata": {},
     "output_type": "execute_result"
    }
   ],
   "source": [
    "#question 3\n",
    "def sums(num):\n",
    "    numbers = list(range(1, num+1))\n",
    "    x = 0\n",
    "    mysum = 0\n",
    "    while x <= len(numbers)-1:\n",
    "        mysum += numbers[x]\n",
    "        x +=1 \n",
    "    return mysum\n",
    "\n",
    "sums(10)"
   ]
  },
  {
   "cell_type": "code",
   "execution_count": 18,
   "id": "ee3c9cfe",
   "metadata": {},
   "outputs": [
    {
     "name": "stdout",
     "output_type": "stream",
     "text": [
      "1\n",
      "3\n",
      "6\n",
      "10\n",
      "15\n",
      "21\n",
      "28\n",
      "36\n",
      "45\n",
      "55\n"
     ]
    },
    {
     "data": {
      "text/plain": [
       "55"
      ]
     },
     "execution_count": 18,
     "metadata": {},
     "output_type": "execute_result"
    }
   ],
   "source": [
    "#question 4\n",
    "def eachsum(num):\n",
    "    numbers = list(range(1, num+1))\n",
    "    x = 0\n",
    "    mysum = 0\n",
    "    while x <= len(numbers)-1:\n",
    "        mysum += numbers[x]\n",
    "        print(mysum)\n",
    "        x += 1\n",
    "    return mysum    \n",
    "    \n",
    "eachsum(10)\n",
    "    "
   ]
  },
  {
   "cell_type": "code",
   "execution_count": 20,
   "id": "2da22c93",
   "metadata": {},
   "outputs": [
    {
     "data": {
      "text/plain": [
       "(50, 4950, 28.722813232690143)"
      ]
     },
     "execution_count": 20,
     "metadata": {},
     "output_type": "execute_result"
    }
   ],
   "source": [
    "#question 5\n",
    "import statistics as stats\n",
    "\n",
    "def givestats(numlist):\n",
    "    av = stats.mean(numlist)\n",
    "    tot = sum(numlist)\n",
    "    sd = stats.stdev(numlist)\n",
    "    return av, tot, sd\n",
    "\n",
    "mynumlist = list(range(1,100))\n",
    "\n",
    "givestats(mynumlist)"
   ]
  },
  {
   "cell_type": "code",
   "execution_count": 5,
   "id": "f9abb659",
   "metadata": {},
   "outputs": [
    {
     "name": "stdout",
     "output_type": "stream",
     "text": [
      "-1\n",
      "0\n"
     ]
    },
    {
     "data": {
      "text/plain": [
       "0"
      ]
     },
     "execution_count": 5,
     "metadata": {},
     "output_type": "execute_result"
    }
   ],
   "source": [
    "#question 6\n",
    "def mymin(num1, num2, num3, num4):\n",
    "    mylist = []\n",
    "    mylist.append(num1)\n",
    "    mylist.append(num2)\n",
    "    mylist.append(num3)\n",
    "    mylist.append(num4)\n",
    "    mini = \"NA\"\n",
    "    for num in mylist:\n",
    "        if mini == \"NA\":\n",
    "            mini = num\n",
    "        else: \n",
    "            if num < mini:\n",
    "                mini = num\n",
    "    print(mini)  \n",
    "    return mini\n",
    "\n",
    "mymin(3, 2, 6, -1)\n",
    "mymin(90, 0, 45, 54)\n",
    "            "
   ]
  },
  {
   "cell_type": "code",
   "execution_count": 6,
   "id": "76dfe949",
   "metadata": {},
   "outputs": [
    {
     "name": "stdout",
     "output_type": "stream",
     "text": [
      "frogs\n"
     ]
    },
    {
     "data": {
      "text/plain": [
       "'frogs'"
      ]
     },
     "execution_count": 6,
     "metadata": {},
     "output_type": "execute_result"
    }
   ],
   "source": [
    "#question 7\n",
    "def con(str1, str2, str3):\n",
    "    newstr = \"\"\n",
    "    newstr = newstr + str1 + str2 + str3\n",
    "    print(newstr)\n",
    "    return newstr\n",
    "\n",
    "con(\"fr\", \"og\", \"s\")"
   ]
  },
  {
   "cell_type": "code",
   "execution_count": null,
   "id": "cc8a991a",
   "metadata": {},
   "outputs": [],
   "source": []
  }
 ],
 "metadata": {
  "kernelspec": {
   "display_name": "Python 3 (ipykernel)",
   "language": "python",
   "name": "python3"
  },
  "language_info": {
   "codemirror_mode": {
    "name": "ipython",
    "version": 3
   },
   "file_extension": ".py",
   "mimetype": "text/x-python",
   "name": "python",
   "nbconvert_exporter": "python",
   "pygments_lexer": "ipython3",
   "version": "3.9.12"
  }
 },
 "nbformat": 4,
 "nbformat_minor": 5
}
